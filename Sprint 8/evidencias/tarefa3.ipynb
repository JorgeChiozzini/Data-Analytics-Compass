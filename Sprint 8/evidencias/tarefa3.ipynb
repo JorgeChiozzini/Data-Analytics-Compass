{
 "cells": [
  {
   "cell_type": "markdown",
   "metadata": {},
   "source": [
    "### Perguntas dessa tarefa:\n",
    "\n",
    "1. [Warm up] Em Python, declare e inicialize uma lista contendo 250 inteiros obtidos de forma aleatória. Após, aplicar o método reverse sobre o conteúdo da lista e imprimir o resultado.\n"
   ]
  },
  {
   "cell_type": "code",
   "execution_count": 1,
   "metadata": {},
   "outputs": [
    {
     "name": "stdout",
     "output_type": "stream",
     "text": [
      "[436, 954, 260, 798, 46, 915, 29, 699, 841, 653, 636, 946, 546, 558, 816, 434, 197, 233, 365, 758, 940, 742, 554, 688, 295, 529, 167, 610, 403, 21, 92, 352, 164, 626, 940, 708, 248, 990, 174, 955, 800, 215, 482, 243, 281, 349, 911, 210, 720, 798, 588, 822, 406, 804, 587, 910, 580, 508, 999, 409, 971, 711, 808, 713, 215, 169, 378, 575, 875, 433, 233, 192, 835, 642, 95, 637, 182, 796, 250, 475, 591, 838, 74, 1000, 701, 556, 268, 994, 480, 940, 900, 862, 287, 791, 913, 132, 431, 44, 969, 57, 729, 129, 795, 413, 830, 652, 238, 652, 526, 619, 526, 161, 203, 816, 833, 102, 636, 521, 935, 204, 649, 654, 19, 334, 601, 311, 270, 79, 495, 971, 202, 839, 40, 593, 131, 385, 163, 622, 49, 642, 634, 279, 797, 341, 333, 871, 626, 806, 984, 157, 249, 209, 789, 910, 852, 906, 841, 29, 721, 395, 780, 384, 335, 158, 781, 327, 871, 658, 879, 301, 294, 536, 944, 487, 64, 672, 260, 38, 371, 763, 399, 571, 305, 348, 698, 52, 271, 314, 216, 4, 423, 776, 249, 923, 99, 845, 105, 183, 953, 925, 165, 160, 246, 400, 291, 931, 544, 680, 558, 611, 201, 850, 681, 861, 526, 129, 810, 759, 216, 981, 267, 897, 224, 787, 78, 961, 768, 950, 520, 816, 973, 90, 444, 310, 661, 993, 853, 209, 816, 4, 48, 952, 296, 729, 416, 592, 806, 97, 448, 250]\n"
     ]
    }
   ],
   "source": [
    "import random\n",
    "\n",
    "# Inicializa uma lista com 250 inteiros aleatórios\n",
    "lista_inteiros = [random.randint(1, 1000) for _ in range(250)]\n",
    "\n",
    "# Aplica o método reverse sobre a lista\n",
    "lista_inteiros.reverse()\n",
    "\n",
    "# Imprime o resultado\n",
    "print(lista_inteiros)\n"
   ]
  },
  {
   "cell_type": "markdown",
   "metadata": {},
   "source": [
    "2. [Warm up] Em Python, declare e inicialize uma lista contendo o nome de 20 animais. Ordene-os em ordem crescente e itere sobre os itens, imprimindo um a um (você pode utilizar list comprehension aqui).  Na sequência, armazene o conteúdo da lista em um arquivo de texto, um item em cada linha, no formato CSV."
   ]
  },
  {
   "cell_type": "code",
   "execution_count": 6,
   "metadata": {},
   "outputs": [
    {
     "name": "stdout",
     "output_type": "stream",
     "text": [
      "Axolote\n",
      "Canguru\n",
      "Dragão de Komodo\n",
      "Fênix\n",
      "Ibex\n",
      "Leopardo-das-neves\n",
      "Lêmure\n",
      "Macaco-aranha\n",
      "Mico-leão-dourado\n",
      "Narval\n",
      "Okapi\n",
      "Orangotango\n",
      "Panda\n",
      "Pangolim\n",
      "Peixe-bolha\n",
      "Quetzal\n",
      "Quokka\n",
      "Tamanduá-bandeira\n",
      "Tarsier\n",
      "Toucan\n"
     ]
    }
   ],
   "source": [
    "# Lista de 20 animais exóticos\n",
    "animais_exoticos = ['Panda', 'Quokka', 'Axolote', 'Fênix', 'Narval', 'Pangolim', 'Toucan', 'Dragão de Komodo', 'Quetzal', 'Lêmure', 'Orangotango', 'Canguru', 'Okapi', 'Tamanduá-bandeira', 'Peixe-bolha', 'Leopardo-das-neves', 'Mico-leão-dourado', 'Ibex', 'Tarsier', 'Macaco-aranha']\n",
    "\n",
    "# Ordena os animais em ordem crescente usando list comprehension\n",
    "animais_exoticos_ordenados = sorted(animais_exoticos)\n",
    "\n",
    "# Imprime os animais um a um\n",
    "[print(animal) for animal in animais_exoticos_ordenados]\n",
    "\n",
    "# Armazena o conteúdo da lista em um arquivo de texto no formato CSV usando list comprehension\n",
    "with open('animais_exoticos.csv', 'w') as arquivo:\n",
    "    [arquivo.write(animal + '\\n') for animal in animais_exoticos_ordenados]\n"
   ]
  },
  {
   "cell_type": "markdown",
   "metadata": {},
   "source": [
    "3. [Laboratório] Elaborar um código Python para gerar um dataset de nomes de pessoas. Siga os passos a seguir para realizar a atividade:\n",
    "\n",
    "    **Passo 1:**  Instalar biblioteca names para geração de nomes aleatórios. O comando de instalação é `pip install names`\n",
    "\n",
    "    **Passo 2** Importar as bibliotecas `random`, `time`, `os` e `names` em seu código\n",
    "\n",
    "    **Passo 3:** Definir os parâmetros para geração do dataset, ou seja, a quantidades de nomes aleatórios e a quantidade de nomes que devem ser únicos.\n",
    "\n",
    "    Define a semente de aleatoriedade\n",
    "    ```python\n",
    "    random.seed(40)\n",
    "    qtd_nomes_unicos = 3000\n",
    "    qtd_nomes_aleatorios = 10000000\n",
    "    ```\n",
    "\n",
    "    *Nota:* Quando trabalhamos com números randômicos em computação, na realidade, estamos falando de valores pseudoaleatórios, uma vez que o computador não consegue gerar números verdadeiramente aleatórios. No caso do Python, a função `random.seed` inicializa o algoritmo responsável pela geração de valores randômicos. É um processo determinístico, pois os valores gerados serão sempre os mesmos se utilizado a mesma configuração de inicialização. A este número inicial chamamos de semente de aleatoriedade.\n",
    "\n",
    "    **Passo 4:** Gerar os nomes aleatórios.\n",
    "    ```python\n",
    "    aux=[]\n",
    "    for i in range(0, qtd_nomes_unicos):\n",
    "        aux.append(names.get_full_name())\n",
    "\n",
    "    print(\"Gerando {} nomes aleatórios\".format(qtd_nomes_aleatorios))\n",
    "    dados=[]\n",
    "\n",
    "    for i in range(0,qtd_nomes_aleatorios):\n",
    "        dados.append(random.choice(aux))\n",
    "    ```\n",
    "\n",
    "    **Passo 5:** Gerar um arquivo de texto contendo todos os nomes, um a cada linha. O nome do arquivo deve ser `nomes_aleatorios.txt`\n",
    "\n",
    "    **Passo 6:** Abrir o arquivo e verificar seu conteúdo (editor de texto)"
   ]
  },
  {
   "cell_type": "code",
   "execution_count": 4,
   "metadata": {},
   "outputs": [
    {
     "name": "stdout",
     "output_type": "stream",
     "text": [
      "Collecting names\n",
      "  Downloading names-0.3.0.tar.gz (789 kB)\n",
      "\u001b[2K     \u001b[90m━━━━━━━━━━━━━━━━━━━━━━━━━━━━━━━━━━━━━\u001b[0m \u001b[32m789.1/789.1 kB\u001b[0m \u001b[31m980.5 kB/s\u001b[0m eta \u001b[36m0:00:00\u001b[0m00:01\u001b[0m00:01\u001b[0m\n",
      "\u001b[?25h  Preparing metadata (setup.py) ... \u001b[?25ldone\n",
      "\u001b[?25hBuilding wheels for collected packages: names\n",
      "  Building wheel for names (setup.py) ... \u001b[?25ldone\n",
      "\u001b[?25h  Created wheel for names: filename=names-0.3.0-py3-none-any.whl size=803681 sha256=40a7d6a9256514a51e8c86c9295b538335c1ffc6db5ad12d3d614b6529749781\n",
      "  Stored in directory: /Users/jorgechiozzini/Library/Caches/pip/wheels/8d/db/fc/50ec19a89a8dcbbd158a4aae44123cb525cda1f07dae287197\n",
      "Successfully built names\n",
      "Installing collected packages: names\n",
      "Successfully installed names-0.3.0\n",
      "Note: you may need to restart the kernel to use updated packages.\n"
     ]
    }
   ],
   "source": [
    "pip install names"
   ]
  },
  {
   "cell_type": "code",
   "execution_count": 5,
   "metadata": {},
   "outputs": [
    {
     "name": "stdout",
     "output_type": "stream",
     "text": [
      "Gerando 10000000 nomes aleatórios\n"
     ]
    }
   ],
   "source": [
    "import random\n",
    "import time\n",
    "import os\n",
    "import names\n",
    "\n",
    "# Define a semente de aleatoriedade\n",
    "random.seed(40)\n",
    "qtd_nomes_unicos = 3000\n",
    "qtd_nomes_aleatorios = 10000000\n",
    "\n",
    "# Gerar os nomes aleatórios\n",
    "aux = []\n",
    "for i in range(0, qtd_nomes_unicos):\n",
    "    aux.append(names.get_full_name())\n",
    "\n",
    "print(\"Gerando {} nomes aleatórios\".format(qtd_nomes_aleatorios))\n",
    "dados = []\n",
    "\n",
    "for i in range(0, qtd_nomes_aleatorios):\n",
    "    dados.append(random.choice(aux))\n",
    "\n",
    "# Gerar um arquivo de texto contendo todos os nomes, um a cada linha\n",
    "with open('nomes_aleatorios.txt', 'w') as arquivo:\n",
    "    for nome in dados:\n",
    "        arquivo.write(nome + '\\n')"
   ]
  }
 ],
 "metadata": {
  "kernelspec": {
   "display_name": "base",
   "language": "python",
   "name": "python3"
  },
  "language_info": {
   "codemirror_mode": {
    "name": "ipython",
    "version": 3
   },
   "file_extension": ".py",
   "mimetype": "text/x-python",
   "name": "python",
   "nbconvert_exporter": "python",
   "pygments_lexer": "ipython3",
   "version": "3.11.5"
  },
  "orig_nbformat": 4
 },
 "nbformat": 4,
 "nbformat_minor": 2
}
