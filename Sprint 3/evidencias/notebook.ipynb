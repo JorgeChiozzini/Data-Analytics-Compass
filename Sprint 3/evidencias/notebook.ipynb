{
 "cells": [
  {
   "cell_type": "code",
   "execution_count": 1,
   "metadata": {},
   "outputs": [
    {
     "name": "stdout",
     "output_type": "stream",
     "text": [
      "Robert DeNiro 79\n"
     ]
    }
   ],
   "source": [
    "# ETAPA 01\n",
    "\n",
    "with open('actors.csv', 'r') as file:\n",
    "    lines = file.readlines()\n",
    "\n",
    "header = lines[0]\n",
    "lines = lines[1:]\n",
    "\n",
    "third_values = [line.split(',')[2] for line in lines]\n",
    "\n",
    "max_value = max(third_values)\n",
    "max_index = third_values.index(max_value)\n",
    "\n",
    "print(lines[max_index].split(',')[0], lines[max_index].split(',')[2])"
   ]
  },
  {
   "cell_type": "code",
   "execution_count": 2,
   "metadata": {},
   "outputs": [
    {
     "name": "stdout",
     "output_type": "stream",
     "text": [
      "428.69000000000005\n"
     ]
    }
   ],
   "source": [
    "# ETAPA 02\n",
    "\n",
    "with open('actors.csv', 'r') as file:\n",
    "    lines = file.readlines()\n",
    "\n",
    "header = lines[0]\n",
    "lines = lines[1:]\n",
    "\n",
    "last_values = [line.split(',')[-1] for line in lines]\n",
    "\n",
    "mean = sum(float(value) for value in last_values) / len(last_values)\n",
    "\n",
    "print(mean)\n"
   ]
  },
  {
   "cell_type": "code",
   "execution_count": 3,
   "metadata": {},
   "outputs": [
    {
     "name": "stdout",
     "output_type": "stream",
     "text": [
      "Anthony Daniels 451.8\n"
     ]
    }
   ],
   "source": [
    "# ETAPA 03\n",
    "\n",
    "with open('actors.csv', 'r') as file:\n",
    "    lines = file.readlines()\n",
    "\n",
    "header = lines[0]\n",
    "lines = lines[1:]\n",
    "\n",
    "max_value = max([float(line.split(',')[3]) for line in lines])\n",
    "\n",
    "for line in lines:\n",
    "    if float(line.split(',')[3]) == max_value:\n",
    "        print(line.split(',')[0], max_value)\n",
    "        break"
   ]
  }
 ],
 "metadata": {
  "kernelspec": {
   "display_name": "Python 3",
   "language": "python",
   "name": "python3"
  },
  "language_info": {
   "codemirror_mode": {
    "name": "ipython",
    "version": 3
   },
   "file_extension": ".py",
   "mimetype": "text/x-python",
   "name": "python",
   "nbconvert_exporter": "python",
   "pygments_lexer": "ipython3",
   "version": "3.10.4"
  },
  "orig_nbformat": 4
 },
 "nbformat": 4,
 "nbformat_minor": 2
}
