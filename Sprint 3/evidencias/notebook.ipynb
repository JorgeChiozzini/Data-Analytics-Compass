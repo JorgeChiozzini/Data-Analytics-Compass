{
 "cells": [
  {
   "cell_type": "code",
   "execution_count": 7,
   "metadata": {},
   "outputs": [
    {
     "name": "stdout",
     "output_type": "stream",
     "text": [
      "Robert DeNiro 79\n"
     ]
    }
   ],
   "source": [
    "with open('actors.csv', 'r') as file:\n",
    "    lines = file.readlines()\n",
    "\n",
    "header = lines[0]\n",
    "lines = lines[1:]\n",
    "\n",
    "third_values = [line.split(',')[2] for line in lines]\n",
    "\n",
    "max_value = max(third_values)\n",
    "max_index = third_values.index(max_value)\n",
    "\n",
    "print(lines[max_index].split(',')[0], lines[max_index].split(',')[2])"
   ]
  },
  {
   "cell_type": "code",
   "execution_count": 8,
   "metadata": {},
   "outputs": [
    {
     "name": "stdout",
     "output_type": "stream",
     "text": [
      "428.69000000000005\n"
     ]
    }
   ],
   "source": [
    "with open('actors.csv', 'r') as file:\n",
    "    lines = file.readlines()\n",
    "\n",
    "header = lines[0]\n",
    "lines = lines[1:]\n",
    "\n",
    "last_values = [line.split(',')[-1] for line in lines]\n",
    "\n",
    "mean = sum(float(value) for value in last_values) / len(last_values)\n",
    "\n",
    "print(mean)\n"
   ]
  },
  {
   "cell_type": "code",
   "execution_count": null,
   "metadata": {},
   "outputs": [],
   "source": []
  }
 ],
 "metadata": {
  "kernelspec": {
   "display_name": "Python 3",
   "language": "python",
   "name": "python3"
  },
  "language_info": {
   "codemirror_mode": {
    "name": "ipython",
    "version": 3
   },
   "file_extension": ".py",
   "mimetype": "text/x-python",
   "name": "python",
   "nbconvert_exporter": "python",
   "pygments_lexer": "ipython3",
   "version": "3.10.4"
  },
  "orig_nbformat": 4
 },
 "nbformat": 4,
 "nbformat_minor": 2
}
