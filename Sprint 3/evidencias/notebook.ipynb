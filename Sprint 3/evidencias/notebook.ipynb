{
 "cells": [
  {
   "cell_type": "code",
   "execution_count": 24,
   "metadata": {},
   "outputs": [
    {
     "name": "stdout",
     "output_type": "stream",
     "text": [
      "Robert DeNiro 79\n"
     ]
    }
   ],
   "source": [
    "# ETAPA 01\n",
    "\n",
    "with open('actors.csv', 'r') as file:\n",
    "    lines = file.readlines()\n",
    "\n",
    "header = lines[0]\n",
    "lines = lines[1:]\n",
    "\n",
    "third_values = [line.split(',')[2] for line in lines]\n",
    "\n",
    "max_value = max(third_values)\n",
    "max_index = third_values.index(max_value)\n",
    "\n",
    "print(lines[max_index].split(',')[0], lines[max_index].split(',')[2])\n",
    "\n",
    "with open('output.txt', 'w') as file:\n",
    "  file.write(lines[max_index].split(',')[0] + ' ' + lines[max_index].split(',')[2])\n"
   ]
  },
  {
   "cell_type": "code",
   "execution_count": 25,
   "metadata": {},
   "outputs": [
    {
     "name": "stdout",
     "output_type": "stream",
     "text": [
      "428.69000000000005\n"
     ]
    }
   ],
   "source": [
    "# ETAPA 02\n",
    "\n",
    "with open('actors.csv', 'r') as file:\n",
    "    lines = file.readlines()\n",
    "\n",
    "header = lines[0]\n",
    "lines = lines[1:]\n",
    "\n",
    "last_values = [line.split(',')[-1] for line in lines]\n",
    "\n",
    "mean = sum(float(value) for value in last_values) / len(last_values)\n",
    "\n",
    "print(mean)\n",
    "\n",
    "with open('mean.txt', 'w') as file:\n",
    "  file.write(str(mean))\n",
    "\n"
   ]
  },
  {
   "cell_type": "code",
   "execution_count": 26,
   "metadata": {},
   "outputs": [
    {
     "name": "stdout",
     "output_type": "stream",
     "text": [
      "Anthony Daniels 451.8\n"
     ]
    }
   ],
   "source": [
    "# ETAPA 03\n",
    "\n",
    "with open('actors.csv', 'r') as file:\n",
    "    lines = file.readlines()\n",
    "\n",
    "header = lines[0]\n",
    "lines = lines[1:]\n",
    "\n",
    "max_value = max([float(line.split(',')[3]) for line in lines])\n",
    "\n",
    "for line in lines:\n",
    "    if float(line.split(',')[3]) == max_value:\n",
    "        print(line.split(',')[0], max_value)\n",
    "        break\n",
    "\n",
    "with open('result.txt', 'w') as file:\n",
    "    file.write(f'{line.split(\",\")[0]}, {max_value}')"
   ]
  },
  {
   "cell_type": "code",
   "execution_count": 27,
   "metadata": {},
   "outputs": [
    {
     "name": "stdout",
     "output_type": "stream",
     "text": [
      "0 - O filme The Avengers aparece 6 vez(es) no dataset\n",
      "1 - O filme Catching Fire aparece 4 vez(es) no dataset\n",
      "2 - O filme Harry Potter / Deathly Hallows (P2) aparece 4 vez(es) no dataset\n",
      "3 - O filme Meet the Fockers aparece 3 vez(es) no dataset\n",
      "4 - O filme Star Wars: The Force Awakens aparece 3 vez(es) no dataset\n",
      "5 - O filme The Dark Knight aparece 3 vez(es) no dataset\n",
      "6 - O filme Avengers: Age of Ultron aparece 2 vez(es) no dataset\n",
      "7 - O filme Dead Man's Chest aparece 2 vez(es) no dataset\n",
      "8 - O filme Night at the Museum aparece 2 vez(es) no dataset\n",
      "9 - O filme Return of the King aparece 2 vez(es) no dataset\n",
      "10 - O filme Shrek 2 aparece 2 vez(es) no dataset\n",
      "11 - O filme American Sniper aparece 1 vez(es) no dataset\n",
      "12 - O filme Hotel Transylvania 2 aparece 1 vez(es) no dataset\n",
      "13 - O filme Independence Day aparece 1 vez(es) no dataset\n",
      "14 - O filme Men in Black aparece 1 vez(es) no dataset\n",
      "15 - O filme Minions aparece 1 vez(es) no dataset\n",
      "16 - O filme Ocean's Eleven aparece 1 vez(es) no dataset\n",
      "17 - O filme Sixth Sense aparece 1 vez(es) no dataset\n",
      "18 - O filme The Dark Knight Rises aparece 1 vez(es) no dataset\n",
      "19 - O filme The Grinch aparece 1 vez(es) no dataset\n",
      "20 - O filme The LEGO Movie aparece 1 vez(es) no dataset\n",
      "21 - O filme The Martian aparece 1 vez(es) no dataset\n",
      "22 - O filme The Phantom Menace aparece 1 vez(es) no dataset\n",
      "23 - O filme Titanic aparece 1 vez(es) no dataset\n",
      "24 - O filme Toy Story 3 aparece 1 vez(es) no dataset\n",
      "25 - O filme Transformers 4 aparece 1 vez(es) no dataset\n",
      "26 - O filme War of the Worlds aparece 1 vez(es) no dataset\n",
      "27 - O filme World War Z aparece 1 vez(es) no dataset\n"
     ]
    }
   ],
   "source": [
    "# ETAPA 04\n",
    "\n",
    "\n",
    "with open('actors.csv', 'r') as file:\n",
    "    lines = file.readlines()    \n",
    "\n",
    "header = lines[0]\n",
    "lines = lines[1:]\n",
    "\n",
    "movies = [line.split(',')[4] for line in lines]\n",
    "\n",
    "movies_count = {}\n",
    "\n",
    "for movie in movies:\n",
    "    if movie in movies_count:\n",
    "        movies_count[movie] += 1\n",
    "    else:\n",
    "        movies_count[movie] = 1\n",
    "\n",
    "movies_count = sorted(movies_count.items(), key=lambda x: (-x[1], x[0]))\n",
    "\n",
    "for index, (movie, count) in enumerate(movies_count):\n",
    "  print(f\"{index} - O filme {movie} aparece {count} vez(es) no dataset\")\n",
    "\n",
    "with open('movies_count.txt', 'w') as file:\n",
    "    for index, (movie, count) in enumerate(movies_count):\n",
    "        file.write(f\"{index} - O filme {movie} aparece {count} vez(es) no dataset\\n\")\n"
   ]
  },
  {
   "cell_type": "code",
   "execution_count": 29,
   "metadata": {},
   "outputs": [
    {
     "name": "stdout",
     "output_type": "stream",
     "text": [
      "Harrison Ford  -  4871.70 \n",
      "Samuel L. Jackson  -  4772.80 \n",
      "Morgan Freeman  -  4468.30 \n",
      "Tom Hanks  -  4340.80 \n",
      "Robert Downey Jr.  -  3947.30 \n",
      "Eddie Murphy  -  3810.40 \n",
      "Tom Cruise  -  3587.20 \n",
      "Johnny Depp  -  3368.60 \n",
      "Michael Caine  -  3351.50 \n",
      "Scarlett Johansson  -  3341.20 \n",
      "Gary Oldman  -  3294.00 \n",
      "Robin Williams  -  3279.30 \n",
      "Bruce Willis  -  3189.40 \n",
      "Stellan Skarsgard  -  3175.00 \n",
      "Anthony Daniels  -  3162.90 \n",
      "Ian McKellen  -  3150.40 \n",
      "Will Smith  -  3149.10 \n",
      "Stanley Tucci  -  3123.90 \n",
      "Matt Damon  -  3107.30 \n",
      "Robert DeNiro  -  3081.30 \n",
      "Cameron Diaz  -  3031.70 \n",
      "Liam Neeson  -  2942.70 \n",
      "Andy Serkis  -  2890.60 \n",
      "Don Cheadle  -  2885.40 \n",
      "Ben Stiller  -  2827.00 \n",
      "Helena Bonham Carter  -  2822.00 \n",
      "Orlando Bloom  -  2815.80 \n",
      "Woody Harrelson  -  2815.80 \n",
      "Cate Blanchett  -  2802.60 \n",
      "Julia Roberts  -  2735.30 \n",
      "Elizabeth Banks  -  2726.30 \n",
      "Ralph Fiennes  -  2715.30 \n",
      "Emma Watson  -  2681.90 \n",
      "Tommy Lee Jones  -  2681.30 \n",
      "Brad Pitt  -  2680.90 \n",
      "Adam Sandler  -  2661.00 \n",
      "Daniel Radcliffe  -  2634.40 \n",
      "Jonah Hill  -  2605.10 \n",
      "Owen Wilson  -  2602.30 \n",
      "Idris Elba  -  2580.60 \n",
      "Bradley Cooper  -  2557.70 \n",
      "Mark Wahlberg  -  2549.80 \n",
      "Jim Carrey  -  2545.20 \n",
      "Dustin Hoffman  -  2522.10 \n",
      "Leonardo DiCaprio  -  2518.30 \n",
      "Jeremy Renner  -  2500.30 \n",
      "Philip Seymour Hoffman  -  2463.70 \n",
      "Sandra Bullock  -  2462.60 \n",
      "Chris Evans  -  2457.80 \n",
      "Anne Hathaway  -  2416.50 \n"
     ]
    }
   ],
   "source": [
    "# ETAPA 05\n",
    "\n",
    "\n",
    "with open('actors.csv', 'r') as file:\n",
    "    lines = file.readlines()\n",
    "    \n",
    "header = lines[0]\n",
    "lines = lines[1:]\n",
    "\n",
    " \n",
    "lines.sort(key=lambda x: x.split(',')[1], reverse=True)\n",
    "\n",
    "for line in lines:\n",
    "    values = line.split(',')\n",
    "    print(values[0],\" - \", values[1])\n",
    "\n",
    "with open('sorted_actors.txt', 'w') as file:\n",
    "    for line in lines:\n",
    "        values = line.split(',')\n",
    "        file.write(values[0] + \" - \" + values[1] + '\\n')\n"
   ]
  }
 ],
 "metadata": {
  "kernelspec": {
   "display_name": "Python 3",
   "language": "python",
   "name": "python3"
  },
  "language_info": {
   "codemirror_mode": {
    "name": "ipython",
    "version": 3
   },
   "file_extension": ".py",
   "mimetype": "text/x-python",
   "name": "python",
   "nbconvert_exporter": "python",
   "pygments_lexer": "ipython3",
   "version": "3.10.4"
  },
  "orig_nbformat": 4
 },
 "nbformat": 4,
 "nbformat_minor": 2
}
