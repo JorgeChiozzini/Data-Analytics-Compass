{
 "cells": [
  {
   "cell_type": "code",
   "execution_count": 1,
   "metadata": {},
   "outputs": [
    {
     "name": "stdout",
     "output_type": "stream",
     "text": [
      "Robert DeNiro 79\n"
     ]
    }
   ],
   "source": [
    "# ETAPA 01\n",
    "\n",
    "with open('actors.csv', 'r') as file:\n",
    "    lines = file.readlines()\n",
    "\n",
    "header = lines[0]\n",
    "lines = lines[1:]\n",
    "\n",
    "third_values = [line.split(',')[2] for line in lines]\n",
    "\n",
    "max_value = max(third_values)\n",
    "max_index = third_values.index(max_value)\n",
    "\n",
    "print(lines[max_index].split(',')[0], lines[max_index].split(',')[2])"
   ]
  },
  {
   "cell_type": "code",
   "execution_count": 2,
   "metadata": {},
   "outputs": [
    {
     "name": "stdout",
     "output_type": "stream",
     "text": [
      "428.69000000000005\n"
     ]
    }
   ],
   "source": [
    "# ETAPA 02\n",
    "\n",
    "with open('actors.csv', 'r') as file:\n",
    "    lines = file.readlines()\n",
    "\n",
    "header = lines[0]\n",
    "lines = lines[1:]\n",
    "\n",
    "last_values = [line.split(',')[-1] for line in lines]\n",
    "\n",
    "mean = sum(float(value) for value in last_values) / len(last_values)\n",
    "\n",
    "print(mean)\n"
   ]
  },
  {
   "cell_type": "code",
   "execution_count": 3,
   "metadata": {},
   "outputs": [
    {
     "name": "stdout",
     "output_type": "stream",
     "text": [
      "Anthony Daniels 451.8\n"
     ]
    }
   ],
   "source": [
    "# ETAPA 03\n",
    "\n",
    "with open('actors.csv', 'r') as file:\n",
    "    lines = file.readlines()\n",
    "\n",
    "header = lines[0]\n",
    "lines = lines[1:]\n",
    "\n",
    "max_value = max([float(line.split(',')[3]) for line in lines])\n",
    "\n",
    "for line in lines:\n",
    "    if float(line.split(',')[3]) == max_value:\n",
    "        print(line.split(',')[0], max_value)\n",
    "        break"
   ]
  },
  {
   "cell_type": "code",
   "execution_count": 7,
   "metadata": {},
   "outputs": [
    {
     "name": "stdout",
     "output_type": "stream",
     "text": [
      "0 - O filme The Avengers aparece 5 vez(es) no dataset\n",
      "1 - O filme Catching Fire aparece 4 vez(es) no dataset\n",
      "2 - O filme Harry Potter / Deathly Hallows (P2) aparece 4 vez(es) no dataset\n",
      "3 - O filme Meet the Fockers aparece 3 vez(es) no dataset\n",
      "4 - O filme Star Wars: The Force Awakens aparece 3 vez(es) no dataset\n",
      "5 - O filme The Dark Knight aparece 3 vez(es) no dataset\n",
      "6 - O filme Avengers: Age of Ultron aparece 2 vez(es) no dataset\n",
      "7 - O filme Dead Man's Chest aparece 2 vez(es) no dataset\n",
      "8 - O filme Night at the Museum aparece 2 vez(es) no dataset\n",
      "9 - O filme Return of the King aparece 2 vez(es) no dataset\n",
      "10 - O filme Shrek 2 aparece 2 vez(es) no dataset\n",
      "11 - O filme 74.50  aparece 1 vez(es) no dataset\n",
      "12 - O filme American Sniper aparece 1 vez(es) no dataset\n",
      "13 - O filme Hotel Transylvania 2 aparece 1 vez(es) no dataset\n",
      "14 - O filme Independence Day aparece 1 vez(es) no dataset\n",
      "15 - O filme Men in Black aparece 1 vez(es) no dataset\n",
      "16 - O filme Minions aparece 1 vez(es) no dataset\n",
      "17 - O filme Ocean's Eleven aparece 1 vez(es) no dataset\n",
      "18 - O filme Sixth Sense aparece 1 vez(es) no dataset\n",
      "19 - O filme The Dark Knight Rises aparece 1 vez(es) no dataset\n",
      "20 - O filme The Grinch aparece 1 vez(es) no dataset\n",
      "21 - O filme The LEGO Movie aparece 1 vez(es) no dataset\n",
      "22 - O filme The Martian aparece 1 vez(es) no dataset\n",
      "23 - O filme The Phantom Menace aparece 1 vez(es) no dataset\n",
      "24 - O filme Titanic aparece 1 vez(es) no dataset\n",
      "25 - O filme Toy Story 3 aparece 1 vez(es) no dataset\n",
      "26 - O filme Transformers 4 aparece 1 vez(es) no dataset\n",
      "27 - O filme War of the Worlds aparece 1 vez(es) no dataset\n",
      "28 - O filme World War Z aparece 1 vez(es) no dataset\n"
     ]
    }
   ],
   "source": [
    "# ETAPA 04\n",
    "\n",
    "\n",
    "with open('actors.csv', 'r') as file:\n",
    "    lines = file.readlines()    \n",
    "\n",
    "header = lines[0]\n",
    "lines = lines[1:]\n",
    "\n",
    "movies = [line.split(',')[4] for line in lines]\n",
    "\n",
    "movies_count = {}\n",
    "\n",
    "for movie in movies:\n",
    "    if movie in movies_count:\n",
    "        movies_count[movie] += 1\n",
    "    else:\n",
    "        movies_count[movie] = 1\n",
    "\n",
    "movies_count = sorted(movies_count.items(), key=lambda x: (-x[1], x[0]))\n",
    "\n",
    "for index, (movie, count) in enumerate(movies_count):\n",
    "  print(f\"{index} - O filme {movie} aparece {count} vez(es) no dataset\")\n",
    "\n"
   ]
  },
  {
   "cell_type": "code",
   "execution_count": null,
   "metadata": {},
   "outputs": [],
   "source": [
    "# ETAPA 05\n",
    "\n"
   ]
  }
 ],
 "metadata": {
  "kernelspec": {
   "display_name": "Python 3",
   "language": "python",
   "name": "python3"
  },
  "language_info": {
   "codemirror_mode": {
    "name": "ipython",
    "version": 3
   },
   "file_extension": ".py",
   "mimetype": "text/x-python",
   "name": "python",
   "nbconvert_exporter": "python",
   "pygments_lexer": "ipython3",
   "version": "3.10.4"
  },
  "orig_nbformat": 4
 },
 "nbformat": 4,
 "nbformat_minor": 2
}
