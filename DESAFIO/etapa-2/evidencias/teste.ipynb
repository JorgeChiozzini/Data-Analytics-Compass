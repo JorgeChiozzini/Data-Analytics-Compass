{
 "cells": [
  {
   "cell_type": "code",
   "execution_count": 2,
   "metadata": {},
   "outputs": [
    {
     "name": "stdout",
     "output_type": "stream",
     "text": [
      "Título: Clube da Luta\n",
      "Data de Lançamento: 1999-10-15\n",
      "Sinopse: Um homem deprimido que sofre de insônia conhece um estranho vendedor de sabonetes chamado Tyler Durden. Eles formam um clube clandestino com regras rígidas onde lutam com outros homens cansados de suas vidas mundanas. Mas sua parceria perfeita é comprometida quando Marla chama a atenção de Tyler.\n",
      "Nota Média: 8.441\n",
      "Número de Votos: 28206\n"
     ]
    }
   ],
   "source": [
    "import requests\n",
    "import apikey\n",
    "\n",
    "API_KEY = apikey.api_key\n",
    "\n",
    "movie_id = 550  \n",
    "\n",
    "url = f\"https://api.themoviedb.org/3/movie/{movie_id}?api_key={API_KEY}&language=pt-BR\"\n",
    "\n",
    "response = requests.get(url)\n",
    "data = response.json()\n",
    "\n",
    "if 'title' in data:\n",
    "    print(\"Título:\", data['title'])\n",
    "    print(\"Data de Lançamento:\", data['release_date'])\n",
    "    print(\"Sinopse:\", data['overview'])\n",
    "    print(\"Nota Média:\", data['vote_average'])\n",
    "    print(\"Número de Votos:\", data['vote_count'])\n",
    "else:\n",
    "    print(\"Filme não encontrado.\")\n"
   ]
  },
  {
   "cell_type": "code",
   "execution_count": 3,
   "metadata": {},
   "outputs": [
    {
     "name": "stdout",
     "output_type": "stream",
     "text": [
      "Título: Miss Jerry\n",
      "Data de Lançamento: 1894-10-08\n",
      "Sinopse: The adventures of a female reporter in the 1890s.\n",
      "Nota Média: 5.0\n",
      "Número de Votos: 3\n"
     ]
    }
   ],
   "source": [
    "import requests\n",
    "import apikey\n",
    "\n",
    "API_KEY = apikey.api_key\n",
    "\n",
    "query = \"Miss Jerry\"  \n",
    "\n",
    "url = f\"https://api.themoviedb.org/3/search/movie?api_key={API_KEY}&query={query}&language=pt-BR\"\n",
    "\n",
    "response = requests.get(url)\n",
    "data = response.json()\n",
    "\n",
    "if 'results' in data and data['results']:\n",
    "    filme = data['results'][0]  \n",
    "    print(\"Título:\", filme['title'])\n",
    "    print(\"Data de Lançamento:\", filme['release_date'])\n",
    "    print(\"Sinopse:\", filme['overview'])\n",
    "    print(\"Nota Média:\", filme['vote_average'])\n",
    "    print(\"Número de Votos:\", filme['vote_count'])\n",
    "else:\n",
    "    print(\"Nenhum filme encontrado com esse nome.\")\n"
   ]
  },
  {
   "cell_type": "code",
   "execution_count": 4,
   "metadata": {},
   "outputs": [
    {
     "name": "stdout",
     "output_type": "stream",
     "text": [
      "ID: 356151\n",
      "Título: Miss Jerry\n",
      "Data de Lançamento: 1894-10-08\n",
      "Sinopse: The adventures of a female reporter in the 1890s.\n",
      "Nota Média: 5.0\n",
      "Número de Votos: 3\n",
      "\n",
      "ID: 40163\n",
      "Título: A Gata Convencida\n",
      "Data de Lançamento: 1942-05-30\n",
      "Sinopse: Tom vai tentar seduzir uma bela gatinha, mas por outro lado, Jerry vai trazer alguns problemas.\n",
      "Nota Média: 6.72\n",
      "Número de Votos: 50\n",
      "\n"
     ]
    }
   ],
   "source": [
    "import requests\n",
    "import apikey\n",
    "\n",
    "API_KEY = apikey.api_key\n",
    "\n",
    "\n",
    "query = \"Miss Jerry\" \n",
    "\n",
    "url = f\"https://api.themoviedb.org/3/search/movie?api_key={API_KEY}&query={query}&language=pt-BR\"\n",
    "\n",
    "response = requests.get(url)\n",
    "data = response.json()\n",
    "\n",
    "if 'results' in data and data['results']:\n",
    "    for filme in data['results']:\n",
    "        print(\"ID:\", filme['id'])\n",
    "        print(\"Título:\", filme['title'])\n",
    "        print(\"Data de Lançamento:\", filme['release_date'])\n",
    "        print(\"Sinopse:\", filme['overview'])\n",
    "        print(\"Nota Média:\", filme['vote_average'])\n",
    "        print(\"Número de Votos:\", filme['vote_count'])\n",
    "        print()\n",
    "else:\n",
    "    print(\"Nenhum filme encontrado com esse nome.\")\n"
   ]
  },
  {
   "cell_type": "code",
   "execution_count": 1,
   "metadata": {},
   "outputs": [
    {
     "name": "stdout",
     "output_type": "stream",
     "text": [
      "IDs externos do filme:\n",
      "{'id': 356151, 'imdb_id': 'tt0000009', 'wikidata_id': None, 'facebook_id': None, 'instagram_id': None, 'twitter_id': None}\n"
     ]
    }
   ],
   "source": [
    "import requests\n",
    "import apikey\n",
    "\n",
    "API_KEY = apikey.api_key\n",
    "\n",
    "movie_id = \"tt0000009\"\n",
    "\n",
    "url_external_ids = f\"https://api.themoviedb.org/3/movie/{movie_id}/external_ids?api_key={API_KEY}&language=pt-BR\"\n",
    "\n",
    "response_external_ids = requests.get(url_external_ids)\n",
    "data_external_ids = response_external_ids.json()\n",
    "\n",
    "\n",
    "if response_external_ids.status_code == 200:\n",
    "    print(\"IDs externos do filme:\")\n",
    "    print(data_external_ids)\n",
    "else:\n",
    "    print(\"Falha na solicitação. Código de status:\", response_external_ids.status_code)\n"
   ]
  },
  {
   "cell_type": "code",
   "execution_count": 58,
   "metadata": {},
   "outputs": [
    {
     "name": "stdout",
     "output_type": "stream",
     "text": [
      "Falha na solicitação. Código de status: 404\n"
     ]
    }
   ],
   "source": [
    "import requests\n",
    "import apikey\n",
    "\n",
    "API_KEY = apikey.api_key\n",
    "\n",
    "movie_id = \"tt0000502\"\n",
    "\n",
    "url_external_ids = f\"https://api.themoviedb.org/3/movie/{movie_id}/external_ids?api_key={API_KEY}&language=pt-BR\"\n",
    "#url_external_ids = f\"https://api.themoviedb.org/3/find/{movie_id}?api_key={API_KEY}&language=pt-BR&external_source=imdb_id\"\n",
    "\n",
    "response_external_ids = requests.get(url_external_ids)\n",
    "data_external_ids = response_external_ids.json()\n",
    "\n",
    "if response_external_ids.status_code == 200:\n",
    "    print(\"IDs externos do filme:\")\n",
    "    print(data_external_ids)\n",
    "\n",
    "    if 'imdb_id' in data_external_ids:\n",
    "        imdb_id = data_external_ids['imdb_id']\n",
    "\n",
    "        #url_movie_details = f\"https://api.themoviedb.org/3/find/{imdb_id}?api_key={API_KEY}&language=pt-BR&external_source=imdb_id\"\n",
    "        url_movie_details = f\"https://api.themoviedb.org/3/movie/{imdb_id}?api_key={API_KEY}&language=pt-BR&external_source=imdb_id\"\n",
    "        response_movie_details = requests.get(url_movie_details)\n",
    "        data_movie_details = response_movie_details.json()\n",
    "\n",
    "        if response_movie_details.status_code == 200:\n",
    "            print(\"Detalhes do filme:\")\n",
    "            print(data_movie_details)\n",
    "        else:\n",
    "            print(\"Falha na solicitação para obter detalhes do filme.\")\n",
    "    else:\n",
    "        print(\"ID IMDb não encontrado nos IDs externos do filme.\")\n",
    "else:\n",
    "    print(\"Falha na solicitação. Código de status:\", response_external_ids.status_code)\n"
   ]
  },
  {
   "cell_type": "code",
   "execution_count": 36,
   "metadata": {},
   "outputs": [
    {
     "name": "stderr",
     "output_type": "stream",
     "text": [
      "/var/folders/5q/4krf7jmj6fgfll_b9kgmff9r0000gn/T/ipykernel_1278/148671144.py:5: DtypeWarning: Columns (3) have mixed types. Specify dtype option on import or set low_memory=False.\n",
      "  movies_imdb = pd.read_csv(\"movies.csv\", sep='|')\n"
     ]
    },
    {
     "name": "stdout",
     "output_type": "stream",
     "text": [
      "Total de filmes sem gênero: 8511\n",
      "Total de filmes sem ano de lançamento: 40\n",
      "Total de filmes no conjunto de dados: 244543\n",
      "Total de filmes do gênero Drama ou Romance dos últimos 10 anos: 34542\n"
     ]
    }
   ],
   "source": [
    "import pandas as pd\n",
    "from datetime import datetime\n",
    "\n",
    "movies_imdb = pd.read_csv(\"movies.csv\", sep='|')\n",
    "\n",
    "movies_imdb = movies_imdb.drop_duplicates(subset=['id'])\n",
    "\n",
    "movies_imdb['genero'] = movies_imdb['genero'].replace('\\\\N', '')\n",
    "\n",
    "movies_imdb['anoLancamento'] = movies_imdb['anoLancamento'].replace('\\\\N', pd.NA)\n",
    "\n",
    "total_sem_genero = movies_imdb['genero'].eq('').sum()\n",
    "\n",
    "total_sem_ano_lancamento = movies_imdb['anoLancamento'].isnull().sum()\n",
    "\n",
    "total_filmes = len(movies_imdb)\n",
    "\n",
    "movies_imdb['anoLancamento'] = pd.to_datetime(movies_imdb['anoLancamento'], errors='coerce')\n",
    "\n",
    "ano_atual = datetime.now().year\n",
    "filmes_filtrados = movies_imdb[\n",
    "    (movies_imdb['genero'].str.contains('Drama|Romance', regex=True, na=False)) &\n",
    "    (~movies_imdb['anoLancamento'].isna()) & \n",
    "    (movies_imdb['anoLancamento'].dt.year >= ano_atual - 10)\n",
    "]\n",
    "\n",
    "total_drama_romance_ultimos_10_anos = len(filmes_filtrados)\n",
    "\n",
    "print(\"Total de filmes sem gênero:\", total_sem_genero)\n",
    "print(\"Total de filmes sem ano de lançamento:\", total_sem_ano_lancamento)\n",
    "print(\"Total de filmes no conjunto de dados:\", total_filmes)\n",
    "print(\"Total de filmes do gênero Drama ou Romance dos últimos 10 anos:\", total_drama_romance_ultimos_10_anos)\n"
   ]
  }
 ],
 "metadata": {
  "kernelspec": {
   "display_name": "base",
   "language": "python",
   "name": "python3"
  },
  "language_info": {
   "codemirror_mode": {
    "name": "ipython",
    "version": 3
   },
   "file_extension": ".py",
   "mimetype": "text/x-python",
   "name": "python",
   "nbconvert_exporter": "python",
   "pygments_lexer": "ipython3",
   "version": "3.11.5"
  },
  "orig_nbformat": 4
 },
 "nbformat": 4,
 "nbformat_minor": 2
}
