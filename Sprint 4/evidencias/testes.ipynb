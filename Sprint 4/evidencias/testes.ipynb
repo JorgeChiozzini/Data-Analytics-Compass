{
 "cells": [
  {
   "cell_type": "code",
   "execution_count": 1,
   "metadata": {},
   "outputs": [
    {
     "name": "stdout",
     "output_type": "stream",
     "text": [
      "[8000, 7998, 7996, 7994, 7994]\n",
      "39982\n"
     ]
    }
   ],
   "source": [
    "#EXERCICIO 1\n",
    "\n",
    "def ler_numeros_do_arquivo(nome_arquivo):\n",
    "    with open(nome_arquivo, 'r') as arquivo:\n",
    "        numeros = list(map(int, arquivo))\n",
    "    return numeros\n",
    "\n",
    "numeros = ler_numeros_do_arquivo('number.txt')\n",
    "\n",
    "numeros_pares = filter(lambda x: x % 2 == 0, numeros)\n",
    "\n",
    "numeros_pares_ordenados = sorted(numeros_pares, reverse=True)\n",
    "\n",
    "cinco_maiores_pares = numeros_pares_ordenados[:5]\n",
    "\n",
    "soma_cinco_maiores = sum(cinco_maiores_pares)\n",
    "\n",
    "print(cinco_maiores_pares)\n",
    "print(soma_cinco_maiores)"
   ]
  },
  {
   "cell_type": "code",
   "execution_count": 2,
   "metadata": {},
   "outputs": [
    {
     "name": "stdout",
     "output_type": "stream",
     "text": [
      "Nome: Alexandre da Rosa Notas: [10, 10, 8] Média: 9.33\n",
      "Nome: Ana Clara das Neves Notas: [7, 6, 6] Média: 6.33\n",
      "Nome: Ana Gonçalves Notas: [8, 3, 3] Média: 4.67\n",
      "Nome: Ana Julia Cavalcanti Notas: [10, 10, 9] Média: 9.67\n",
      "Nome: Ana Vitória Moraes Notas: [10, 6, 5] Média: 7.0\n",
      "Nome: André Mendes Notas: [6, 4, 4] Média: 4.67\n",
      "Nome: Beatriz Moreira Notas: [6, 4, 3] Média: 4.33\n",
      "Nome: Carolina da Mata Notas: [5, 5, 3] Média: 4.33\n",
      "Nome: Catarina Barros Notas: [10, 4, 3] Média: 5.67\n",
      "Nome: Cauê Fogaça Notas: [10, 5, 5] Média: 6.67\n",
      "Nome: Cecília Costa Notas: [9, 4, 4] Média: 5.67\n",
      "Nome: Clara da Rocha Notas: [9, 9, 7] Média: 8.33\n",
      "Nome: Davi Lucas Gomes Notas: [9, 8, 8] Média: 8.33\n",
      "Nome: Diogo Aragão Notas: [7, 5, 5] Média: 5.67\n",
      "Nome: Dr. Pedro Henrique Rezende Notas: [10, 10, 3] Média: 7.67\n",
      "Nome: Dra. Heloísa Pinto Notas: [8, 6, 5] Média: 6.33\n",
      "Nome: Dra. Laura Pereira Notas: [6, 5, 3] Média: 4.67\n",
      "Nome: Enzo Melo Notas: [10, 10, 6] Média: 8.67\n",
      "Nome: Gabriel Novaes Notas: [10, 10, 8] Média: 9.33\n",
      "Nome: Gabriel da Rosa Notas: [3, 3, 2] Média: 2.67\n",
      "Nome: Heitor Aragão Notas: [6, 6, 5] Média: 5.67\n",
      "Nome: Heitor Martins Notas: [10, 9, 6] Média: 8.33\n",
      "Nome: João Cardoso Notas: [10, 7, 5] Média: 7.33\n",
      "Nome: João Pedro Moura Notas: [5, 3, 3] Média: 3.67\n",
      "Nome: Leandro Rodrigues Notas: [7, 5, 4] Média: 5.33\n",
      "Nome: Letícia Jesus Notas: [6, 5, 5] Média: 5.33\n",
      "Nome: Luigi Pereira Notas: [9, 8, 8] Média: 8.33\n",
      "Nome: Maria Luiza Correia Notas: [7, 5, 5] Média: 5.67\n",
      "Nome: Maria Mendes Notas: [7, 3, 3] Média: 4.33\n",
      "Nome: Nicolas Campos Notas: [10, 8, 7] Média: 8.33\n",
      "Nome: Nina Viana Notas: [10, 9, 6] Média: 8.33\n",
      "Nome: Paulo da Rosa Notas: [5, 5, 5] Média: 5.0\n",
      "Nome: Pedro Castro Notas: [9, 8, 5] Média: 7.33\n",
      "Nome: Pedro Lucas Araújo Notas: [9, 7, 3] Média: 6.33\n",
      "Nome: Rodrigo Jesus Notas: [10, 8, 8] Média: 8.67\n",
      "Nome: Ryan Nascimento Notas: [9, 6, 4] Média: 6.33\n",
      "Nome: Sr. Luiz Otávio Cardoso Notas: [10, 10, 9] Média: 9.67\n",
      "Nome: Sra. Melissa da Cunha Notas: [10, 5, 3] Média: 6.0\n",
      "Nome: Srta. Carolina Almeida Notas: [10, 9, 2] Média: 7.0\n",
      "Nome: Thiago Silveira Notas: [7, 7, 4] Média: 6.0\n"
     ]
    }
   ],
   "source": [
    "#EXERCICIO 5\n",
    "\n",
    "import csv\n",
    "\n",
    "def processa_estudantes():\n",
    "    \n",
    "    with open('estudantes.csv', newline='') as arquivo_csv:\n",
    "        leitor_csv = csv.reader(arquivo_csv)\n",
    "        \n",
    "        resultados = []\n",
    "        for linha in leitor_csv:\n",
    "            nome = linha[0]\n",
    "            notas = list(map(int, linha[1:]))\n",
    "            tres_maiores_notas = sorted(notas, reverse=True)[:3]\n",
    "            media_tres_maiores = round(sum(tres_maiores_notas) / 3, 2)\n",
    "            \n",
    "            resultados.append((nome, tres_maiores_notas, media_tres_maiores))\n",
    "\n",
    "        resultados_ordenados = sorted(resultados, key=lambda x: x[0])\n",
    "\n",
    "        for resultado in resultados_ordenados:\n",
    "            print(f\"Nome: {resultado[0]} Notas: {resultado[1]} Média: {resultado[2]}\")\n",
    "\n",
    "processa_estudantes()"
   ]
  }
 ],
 "metadata": {
  "kernelspec": {
   "display_name": "Python 3",
   "language": "python",
   "name": "python3"
  },
  "language_info": {
   "codemirror_mode": {
    "name": "ipython",
    "version": 3
   },
   "file_extension": ".py",
   "mimetype": "text/x-python",
   "name": "python",
   "nbconvert_exporter": "python",
   "pygments_lexer": "ipython3",
   "version": "3.10.4"
  },
  "orig_nbformat": 4
 },
 "nbformat": 4,
 "nbformat_minor": 2
}
