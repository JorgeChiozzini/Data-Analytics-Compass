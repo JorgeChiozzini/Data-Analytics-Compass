{
 "cells": [
  {
   "cell_type": "markdown",
   "metadata": {},
   "source": [
    "Perguntas dessa tarefa:\n",
    "\n",
    "Identifique o ator/atriz com maior número de filmes e o respectivo número de filmes."
   ]
  },
  {
   "cell_type": "code",
   "execution_count": 4,
   "metadata": {},
   "outputs": [
    {
     "name": "stdout",
     "output_type": "stream",
     "text": [
      "Ator com o maior número de filmes:\n",
      "Robert DeNiro\n",
      "Número de Filmes:\n",
      "79\n"
     ]
    }
   ],
   "source": [
    "import pandas as pd\n",
    "\n",
    "# Ler o arquivo CSV\n",
    "df = pd.read_csv('actors.csv')\n",
    "\n",
    "# Identificar o ator com o maior número de filmes\n",
    "ator_com_mais_filmes = df.loc[df['Number of Movies'].idxmax()]\n",
    "\n",
    "print(\"Ator com o maior número de filmes:\")\n",
    "print(ator_com_mais_filmes['Actor'])\n",
    "print(\"Número de Filmes:\")\n",
    "print(ator_com_mais_filmes['Number of Movies'])\n"
   ]
  },
  {
   "cell_type": "markdown",
   "metadata": {},
   "source": [
    "Apresente a média da coluna contendo o número de filmes."
   ]
  },
  {
   "cell_type": "code",
   "execution_count": 5,
   "metadata": {},
   "outputs": [
    {
     "name": "stdout",
     "output_type": "stream",
     "text": [
      "Média do número de filmes: 37.88\n"
     ]
    }
   ],
   "source": [
    "import pandas as pd\n",
    "\n",
    "# Ler o arquivo CSV\n",
    "df = pd.read_csv('actors.csv')\n",
    "\n",
    "# Calcular e apresentar a média da coluna 'Number of Movies'\n",
    "media_numero_filmes = df['Number of Movies'].mean()\n",
    "\n",
    "print(\"Média do número de filmes:\", media_numero_filmes)\n"
   ]
  },
  {
   "cell_type": "markdown",
   "metadata": {},
   "source": [
    "Apresente o nome do ator/atriz com a maior média por filme."
   ]
  },
  {
   "cell_type": "code",
   "execution_count": 6,
   "metadata": {},
   "outputs": [
    {
     "name": "stdout",
     "output_type": "stream",
     "text": [
      "Ator com a maior média por filme:\n",
      "Anthony Daniels\n"
     ]
    }
   ],
   "source": [
    "import pandas as pd\n",
    "\n",
    "# Ler o arquivo CSV\n",
    "df = pd.read_csv('actors.csv')\n",
    "\n",
    "# Calcular a média por filme para cada ator/atriz\n",
    "df['Average per Movie'] = df['Total Gross'] / df['Number of Movies']\n",
    "\n",
    "# Identificar o ator com a maior média por filme\n",
    "ator_com_maior_media_por_filme = df.loc[df['Average per Movie'].idxmax()]\n",
    "\n",
    "print(\"Ator com a maior média por filme:\")\n",
    "print(ator_com_maior_media_por_filme['Actor'])\n"
   ]
  },
  {
   "cell_type": "markdown",
   "metadata": {},
   "source": [
    "Apresente o nome do(s) filme(s) mais frequente(s) e sua respectiva frequência."
   ]
  },
  {
   "cell_type": "code",
   "execution_count": 9,
   "metadata": {},
   "outputs": [
    {
     "name": "stdout",
     "output_type": "stream",
     "text": [
      "Filme(s) mais frequente(s): The Avengers\n",
      "Frequência: 6\n"
     ]
    }
   ],
   "source": [
    "import pandas as pd\n",
    "\n",
    "# Ler o arquivo CSV\n",
    "df = pd.read_csv('actors.csv')\n",
    "\n",
    "# Encontrar o(s) filme(s) mais frequente(s)\n",
    "filme_mais_frequente = df['#1 Movie'].mode().iloc[0]\n",
    "frequencia_filme_mais_frequente = df['#1 Movie'].value_counts().max()\n",
    "\n",
    "print(\"Filme(s) mais frequente(s):\", filme_mais_frequente)\n",
    "print(\"Frequência:\", frequencia_filme_mais_frequente)\n",
    "\n"
   ]
  }
 ],
 "metadata": {
  "kernelspec": {
   "display_name": "Python 3",
   "language": "python",
   "name": "python3"
  },
  "language_info": {
   "codemirror_mode": {
    "name": "ipython",
    "version": 3
   },
   "file_extension": ".py",
   "mimetype": "text/x-python",
   "name": "python",
   "nbconvert_exporter": "python",
   "pygments_lexer": "ipython3",
   "version": "3.11.5"
  },
  "orig_nbformat": 4
 },
 "nbformat": 4,
 "nbformat_minor": 2
}
