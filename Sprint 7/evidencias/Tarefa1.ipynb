{
 "cells": [
  {
   "cell_type": "markdown",
   "metadata": {},
   "source": [
    "Perguntas dessa tarefa:\n",
    "\n",
    "Identifique o ator/atriz com maior número de filmes e o respectivo número de filmes."
   ]
  },
  {
   "cell_type": "code",
   "execution_count": 9,
   "metadata": {},
   "outputs": [
    {
     "name": "stdout",
     "output_type": "stream",
     "text": [
      "O ator/atriz com maior número de filmes é Robert DeNiro com 79 filmes\n"
     ]
    }
   ],
   "source": [
    "import pandas as pd\n",
    "\n",
    "# Ler o arquivo CSV\n",
    "df = pd.read_csv('actors.csv')\n",
    "\n",
    "# Identificar o ator com o maior número de filmes\n",
    "ator = df.loc[df['Number of Movies'].idxmax()]\n",
    "\n",
    "print(\"O ator/atriz com maior número de filmes é {} com {} filmes\".format(ator['Actor'], ator['Number of Movies']))"
   ]
  },
  {
   "cell_type": "markdown",
   "metadata": {},
   "source": [
    "Apresente a média da coluna contendo o número de filmes."
   ]
  },
  {
   "cell_type": "code",
   "execution_count": 10,
   "metadata": {},
   "outputs": [
    {
     "name": "stdout",
     "output_type": "stream",
     "text": [
      "A média do número de filmes é 37.88\n"
     ]
    }
   ],
   "source": [
    "import pandas as pd\n",
    "\n",
    "# Ler o arquivo CSV\n",
    "df = pd.read_csv('actors.csv')\n",
    "\n",
    "# Calcular e apresentar a média da coluna 'Number of Movies'\n",
    "media_numero_filmes = df['Number of Movies'].mean()\n",
    "\n",
    "print(\"A média do número de filmes é {:.2f}\".format(media_numero_filmes))\n"
   ]
  },
  {
   "cell_type": "markdown",
   "metadata": {},
   "source": [
    "Apresente o nome do ator/atriz com a maior média por filme."
   ]
  },
  {
   "cell_type": "code",
   "execution_count": 11,
   "metadata": {},
   "outputs": [
    {
     "name": "stdout",
     "output_type": "stream",
     "text": [
      "O ator/atriz com maior média por filme é Anthony Daniels\n"
     ]
    }
   ],
   "source": [
    "import pandas as pd\n",
    "\n",
    "# Ler o arquivo CSV\n",
    "df = pd.read_csv('actors.csv')\n",
    "\n",
    "# Calcular a média por filme para cada ator/atriz\n",
    "df['Average per Movie'] = df['Total Gross'] / df['Number of Movies']\n",
    "\n",
    "# Identificar o ator com a maior média por filme\n",
    "ator_media = df.loc[df['Average per Movie'].idxmax()]\n",
    "\n",
    "print(\"O ator/atriz com maior média por filme é {}\".format(ator_media['Actor']))\n"
   ]
  },
  {
   "cell_type": "markdown",
   "metadata": {},
   "source": [
    "Apresente o nome do(s) filme(s) mais frequente(s) e sua respectiva frequência."
   ]
  },
  {
   "cell_type": "code",
   "execution_count": 12,
   "metadata": {},
   "outputs": [
    {
     "name": "stdout",
     "output_type": "stream",
     "text": [
      "Ranking dos filmes de acordo com a frequência no dataset:\n",
      "1 - O filme 'The Avengers' aparece 6 vez(es) no dataset\n",
      "2 - O filme 'Catching Fire' aparece 4 vez(es) no dataset\n",
      "3 - O filme 'Harry Potter / Deathly Hallows (P2)' aparece 4 vez(es) no dataset\n",
      "4 - O filme 'Star Wars: The Force Awakens' aparece 3 vez(es) no dataset\n",
      "5 - O filme 'The Dark Knight' aparece 3 vez(es) no dataset\n",
      "6 - O filme 'Meet the Fockers' aparece 3 vez(es) no dataset\n",
      "7 - O filme 'Avengers: Age of Ultron' aparece 2 vez(es) no dataset\n",
      "8 - O filme 'Return of the King' aparece 2 vez(es) no dataset\n",
      "9 - O filme 'Night at the Museum' aparece 2 vez(es) no dataset\n",
      "10 - O filme 'Dead Man's Chest' aparece 2 vez(es) no dataset\n",
      "11 - O filme 'Shrek 2' aparece 2 vez(es) no dataset\n",
      "12 - O filme 'The Grinch' aparece 1 vez(es) no dataset\n",
      "13 - O filme 'World War Z' aparece 1 vez(es) no dataset\n",
      "14 - O filme 'Transformers 4' aparece 1 vez(es) no dataset\n",
      "15 - O filme 'American Sniper' aparece 1 vez(es) no dataset\n",
      "16 - O filme 'Titanic' aparece 1 vez(es) no dataset\n",
      "17 - O filme 'Minions' aparece 1 vez(es) no dataset\n",
      "18 - O filme 'The LEGO Movie' aparece 1 vez(es) no dataset\n",
      "19 - O filme 'Hotel Transylvania 2' aparece 1 vez(es) no dataset\n",
      "20 - O filme 'The Phantom Menace' aparece 1 vez(es) no dataset\n",
      "21 - O filme 'Men in Black' aparece 1 vez(es) no dataset\n",
      "22 - O filme 'Ocean's Eleven' aparece 1 vez(es) no dataset\n",
      "23 - O filme 'The Martian' aparece 1 vez(es) no dataset\n",
      "24 - O filme 'Independence Day' aparece 1 vez(es) no dataset\n",
      "25 - O filme 'Sixth Sense' aparece 1 vez(es) no dataset\n",
      "26 - O filme 'War of the Worlds' aparece 1 vez(es) no dataset\n",
      "27 - O filme 'Toy Story 3' aparece 1 vez(es) no dataset\n",
      "28 - O filme 'The Dark Knight Rises' aparece 1 vez(es) no dataset\n"
     ]
    }
   ],
   "source": [
    "import pandas as pd\n",
    "\n",
    "# Ler o arquivo CSV\n",
    "df = pd.read_csv('actors.csv')\n",
    "\n",
    "# Calcular a frequência dos filmes\n",
    "frequencia_filmes = df['#1 Movie'].value_counts()\n",
    "\n",
    "# Encontrar o(s) filme(s) mais frequente(s)\n",
    "frequencia_filmes = df['#1 Movie'].value_counts()\n",
    "\n",
    "print(\"Ranking dos filmes de acordo com a frequência no dataset:\")\n",
    "for i, (filme, frequencia) in enumerate(frequencia_filmes.items(), start=1):\n",
    "    print(\"{} - O filme '{}' aparece {} vez(es) no dataset\".format(i, filme, frequencia))\n"
   ]
  }
 ],
 "metadata": {
  "kernelspec": {
   "display_name": "Python 3",
   "language": "python",
   "name": "python3"
  },
  "language_info": {
   "codemirror_mode": {
    "name": "ipython",
    "version": 3
   },
   "file_extension": ".py",
   "mimetype": "text/x-python",
   "name": "python",
   "nbconvert_exporter": "python",
   "pygments_lexer": "ipython3",
   "version": "3.11.5"
  },
  "orig_nbformat": 4
 },
 "nbformat": 4,
 "nbformat_minor": 2
}
